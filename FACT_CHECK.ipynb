{
 "cells": [
  {
   "cell_type": "code",
   "execution_count": 169,
   "id": "f0cdab1d",
   "metadata": {},
   "outputs": [],
   "source": [
    "from langchain.prompts import PromptTemplate\n",
    "from langchain.llms import OpenAI\n",
    "from langchain.chains import LLMChain\n",
    "import textwrap\n",
    "from langchain.chains import LLMSummarizationCheckerChain\n",
    "import os\n",
    "from PyPDF2 import PdfReader\n",
    "from langchain.text_splitter import CharacterTextSplitter\n",
    "from langchain.embeddings import OpenAIEmbeddings\n",
    "from langchain.vectorstores import FAISS\n",
    "from langchain.chains import RetrievalQA\n",
    "\n",
    "os.environ[\"OPENAI_API_KEY\"] = #INSERT YOUR KEY HERE#\n",
    "\n",
    "\n",
    "\n",
    "\n",
    "\n",
    "def read_PDF(pdf_dir):\n",
    "    doc_reader = PdfReader(pdf_dir)\n",
    "    raw_text = ''\n",
    "    for i, page in enumerate(doc_reader.pages):\n",
    "        text = page.extract_text()\n",
    "        if text:\n",
    "            raw_text += text\n",
    "    return raw_text\n",
    "\n",
    "def split_text(raw_text):\n",
    "    text_splitter = CharacterTextSplitter(        \n",
    "        separator = \"\\n\",\n",
    "        chunk_size = 2500,\n",
    "        chunk_overlap  = 400, #striding over the text\n",
    "        length_function = len,\n",
    "    )\n",
    "    texts = text_splitter.split_text(raw_text)\n",
    "    return texts\n",
    "\n",
    "raw_text = read_PDF(r\"C:\\Users\\felip\\OneDrive - Fundacao Getulio Vargas - FGV\\!_Paper04_Chat_PDF\\fact_check_linha_35.pdf\")\n",
    "texts = split_text(raw_text)\n",
    "\n",
    "inconsistencias = \"\"\"Errors in the classification of expenses in the Code of Application\n",
    "Discrepancies in the values questioned regarding expenses related to education\n",
    "Divergences in Restos a Pagar values\n",
    "Divergences between the SIOPE and SGRES Contábil regarding maintenance and development expenses\n",
    "Error in the accounting of expenses for Actions and Public Health Services\n",
    "Inconsistencies in the Portal of Transparency, including missing information and outdated contracts\n",
    "Incomplete and non-compliant Demonstrativo de Disponibilidade de Caixa e Restos a Pagar\n",
    "Deficiencies in the submission of required documents and reports\n",
    "Deficit in revenue compared to the budgeted amount\n",
    "Decrease in tax revenue from the previous year\n",
    "Budgetary savings due to underutilization of funds\n",
    "Superavit in the comparison of revenue and expenses\n",
    "Delays in the submission of budgetary documents and reports to the TCE-PI\"\"\"\n",
    "\n",
    "inconsistencias = inconsistencias.split('\\n')\n",
    "#for i in inconsistencias:\n",
    "#    query = i\n",
    "#    print(query)\n",
    "\n",
    "inconsistence_check = \"\"\"Role: You are a fact checker.\n",
    "You know this context:{context}\n",
    "Here is a fact: {question}\n",
    "Task: determine whether the fact is true or false about the subject.\n",
    "If you are unable to determine whether the fact is true or false, output \"Undetermined\".\n",
    "If the fact is true or false, explain why.\n",
    "Here is the answer:\"\"\"\n",
    "\n",
    "prompt_inconsistence_check = PromptTemplate(template=inconsistence_check, input_variables=['context', 'question'])\n",
    "\n",
    "embeddings = OpenAIEmbeddings()\n",
    "#docsearch = FAISS.from_texts(texts, embeddings)      \n",
    "retriever = docsearch.as_retriever(search_type=\"similarity\", search_kwargs={\"k\":3})\n",
    "rqa = RetrievalQA.from_chain_type(llm=OpenAI(), \n",
    "                                  chain_type=\"stuff\", \n",
    "                                  retriever=retriever,\n",
    "                                  chain_type_kwargs={\"prompt\": prompt_inconsistence_check},\n",
    "                                  return_source_documents=True)\n"
   ]
  },
  {
   "cell_type": "code",
   "execution_count": 167,
   "id": "f6ead97b",
   "metadata": {},
   "outputs": [
    {
     "data": {
      "text/plain": [
       "'Budgetary savings due to underutilization of funds'"
      ]
     },
     "execution_count": 167,
     "metadata": {},
     "output_type": "execute_result"
    }
   ],
   "source": [
    "inconsistencias[10]"
   ]
  },
  {
   "cell_type": "code",
   "execution_count": 174,
   "id": "73ae1eb9",
   "metadata": {},
   "outputs": [],
   "source": [
    "resposta_LLM = rqa(inconsistencias[10])"
   ]
  },
  {
   "cell_type": "code",
   "execution_count": 175,
   "id": "10d8754f",
   "metadata": {},
   "outputs": [
    {
     "data": {
      "text/plain": [
       "' False. The budgetary savings due to underutilization of funds are not necessarily a fact in this context, as the context does not discuss the budget and the savings that could be achieved by underutilizing the funds. Therefore, this fact is false.'"
      ]
     },
     "execution_count": 175,
     "metadata": {},
     "output_type": "execute_result"
    }
   ],
   "source": [
    "resposta_LLM['result']"
   ]
  },
  {
   "cell_type": "code",
   "execution_count": 172,
   "id": "9c90c517",
   "metadata": {},
   "outputs": [
    {
     "data": {
      "text/plain": [
       "Document(page_content='5i) Ressaltou primeiramente que foi possível constatar que de fato em algumas despesas \\ninformadas pelo gestor ocorreram erros na classificação do Código de Aplicação. \\nii) Em relação aos valores questionados informou que do montante de R$ 709.040,75 \\nque não teriam sido considerados incialmente, apenas parte dessas despesas R$ \\n493.916,33, devem ser consideradas, as quais, apesar de classificadas na fonte do \\nTesouro, foram pagas por recursos de convênios vinculados à Educação. \\nii) Quanto aos demais aspectos relacionados a possíveis divergências nos Restos a \\nPagar alegados pela defesa, a Unidade Técnica manteve os valores incialmente \\napurados, tendo em vista terem sido apurados pelo anexo XI, enviado pela gestão, via \\nSAGRES WEB.\\niii) Quanto aos outros valores divergentes entre a planilha da DFAM e a apresentada \\npela Defesa, manteve-se o inicialmente apurado. \\niv) Os cálculos foram refeitos, considerando os valores das despesas acima \\nmencionadas, onde se verificou que o Município teria atingido do percentual de \\n23,69% em despesas com manutenção e desenvolvimento do ensino. Observou-se \\nassim, que o município continuou em descumprimento do referido índice.\\n1.9 – Divergências entre o percentual apurado de gastos com manutenção e \\ndesenvolvimento do ensino, entre: o informado pelo SIOPE – no Demonstrativo das receitas e \\ndespesas com manutenção e desenvolvimento do ensino – MDE (Documentação Web) e o \\nSGRES Contábil;\\nDefesa: Justificou que as divergências de valores decorreram de falha no Sistema operacional, o \\nqual não teria considerado a Receita de 1% do FPM (recebida ao final de exercício), e que teria \\nsido feito a devida correção e alterado o Relatório no sistema Documentação Web.Estado do Piauí\\nTribunal de Contas\\nGabinete Consª. Lilian Martins\\nGab. Consª. Lilian Martins – TC nº 006924/2018 – Prestação de Contas do ex. de 2017 – Pref. Mun. de Brasileira\\n6Análise Técnica: Informou que o documento foi entregue em 07/08/2019 (referente ao \\nexercício de 2017), em que o percentual com MDE foi alterado para 26,69%, percentual que foi \\nrefutado na análise do item anterior “1.8”. Ressaltou que a metodologia empregada é uma só, \\nque é a disposta pela Secretaria do Tesouro Nacional, de forma que não deveria haver \\ndivergências nos percentuais apurados.\\n1.10 - Erro na contabilização dos gastos com Ações e Serviços Público de Saúde. Na \\napuração dos gastos com saúde verificou-se que o Município teria registrado o FPM dos meses', metadata={})"
      ]
     },
     "execution_count": 172,
     "metadata": {},
     "output_type": "execute_result"
    }
   ],
   "source": [
    "resposta_LLM['source_documents'][0]"
   ]
  },
  {
   "cell_type": "code",
   "execution_count": 143,
   "id": "3c6e71fb",
   "metadata": {},
   "outputs": [
    {
     "data": {
      "text/plain": [
       "Document(page_content='3Defesa: Justificou que tal ato foi um equívoco do setor do planejamento que ao elaborar o projeto de \\nLei Orçamentário para exercício de 2017, considerou 1% (um por cento) da Receita Corrente. Disse que \\nhouve a correção do vício de natureza formal.\\nAnálise Técnica: Esclareceu que a Reserva de Contingência é uma dotação que não é especificamente \\ndestinada a uma Unidade Orçamentária, cujos recursos serão utilizados para abertura de créditos \\nadicionais. Nesse caso a defesa apenas reconheceu o limite ultrapassado.\\n1.4 – Atraso de 23 dias no envio do SAGRES Contábil referente ao mês de dezembro de \\n2017.\\nDefesa: Alegou que o atraso não deveria ser considerado, pois a Administração teria pedido o \\ncancelamento de um primeiro envio e que o reenvio teria ocorrido dentro do prazo de 10 dias \\nestipulados pela Resolução TCE-PI nº 27/2016.\\nAnálise Técnica: Informou que a referida prestação de contas foi enviada em 01/03/2018, \\nporém cancelada a pedido do gestor e reenviada, em 28 de março de 2018. Verifica-se que não \\nfoi cumprido o prazo de 10 dias úteis previsto no art. 56 da Resolução TCE nº 27/2016.\\n1.5 – Ausência de peças exigidas pela Resolução TCE nº 27/2016. Não foram enviadas as \\ncopias das atas de audiências públicas conforme estabelece o art. 48 da LRF.\\nDefesa: Informou que as peças estariam anexadas à defesa nos autos deste Processo.\\nAnálise Técnica: Verificou que os documentos foram acostados aos fólios 18/23 (Peça 23). \\nContudo, as peças não foram enviadas via eletrônica, até a data de emissão deste Relatório, \\ncomo prescreve a Resolução TCE nº 27/2016.\\n1.6 – Insuficiência na arrecadação da receita tributária, ou seja, não houve o incremento da \\nreceita tributária do município no exercício de 2017 (R$ 313.777,40), em relação ao ano \\nanterior (R$ 341.201,83).\\nDefesa: Alegou que teria havido um aumento na criação de Micro empreendedor individual, \\nfazendo com que houvesse a diminuição da receita tributária e aumentasse a Receita de Outras \\nTransferências da União.Estado do Piauí\\nTribunal de Contas\\nGabinete Consª. Lilian Martins\\nGab. Consª. Lilian Martins – TC nº 006924/2018 – Prestação de Contas do ex. de 2017 – Pref. Mun. de Brasileira\\n4Análise Técnica: Esclareceu, diferentemente da justificativa apresentada pela defesa, que no \\nexercício teria havido o incremento na receita de ISS, porém  houve a diminuição na \\narrecadação de IPTU, demonstrando que a defesa apresentada não deve prosperar.', metadata={})"
      ]
     },
     "execution_count": 143,
     "metadata": {},
     "output_type": "execute_result"
    }
   ],
   "source": [
    "resposta_LLM['source_documents'][1]"
   ]
  },
  {
   "cell_type": "code",
   "execution_count": null,
   "id": "9673fbfa",
   "metadata": {},
   "outputs": [],
   "source": [
    "\n",
    "==> CARREGAR O ARQUVIO\n",
    "\n",
    "wrapped_text = textwrap.fill(article, \n",
    "                             width=100,\n",
    "                             break_long_words=False,\n",
    "                             replace_whitespace=False)\n",
    "print(wrapped_text)"
   ]
  },
  {
   "cell_type": "code",
   "execution_count": 8,
   "id": "801fb7e8",
   "metadata": {},
   "outputs": [
    {
     "name": "stderr",
     "output_type": "stream",
     "text": [
      "C:\\Users\\felip\\anaconda3\\lib\\site-packages\\langchain\\chains\\llm_summarization_checker\\base.py:114: UserWarning: Directly instantiating an LLMSummarizationCheckerChain with an llm is deprecated. Please instantiate with sequential_chain argument or using the from_llm class method.\n",
      "  warnings.warn(\n"
     ]
    },
    {
     "data": {
      "text/plain": [
       "'You are an expert fact checker. You have been hired by a major news organization to fact check a very important story.\\n\\nHere is a bullet point list of facts:\\n\"\"\"\\n{assertions}\\n\"\"\"\\n\\nFor each fact, determine whether it is true or false about the subject. If you are unable to determine whether the fact is true or false, output \"Undetermined\".\\nIf the fact is false, explain why.\\n\\n'"
      ]
     },
     "execution_count": 8,
     "metadata": {},
     "output_type": "execute_result"
    }
   ],
   "source": [
    "llm = OpenAI(temperature=0)\n",
    "\n",
    "checker_chain = LLMSummarizationCheckerChain(llm=llm, \n",
    "                                             verbose=True, \n",
    "                                             max_checks=2\n",
    "                                             )\n",
    "checker_chain.check_assertions_prompt.template"
   ]
  },
  {
   "cell_type": "code",
   "execution_count": 12,
   "id": "cae69070",
   "metadata": {},
   "outputs": [],
   "source": [
    "from PyPDF2 import PdfReader\n",
    "from langchain.text_splitter import CharacterTextSplitter\n",
    "\n",
    "\n",
    "def read_PDF(pdf_dir):\n",
    "    doc_reader = PdfReader(pdf_dir)\n",
    "    raw_text = ''\n",
    "    for i, page in enumerate(doc_reader.pages):\n",
    "        text = page.extract_text()\n",
    "        if text:\n",
    "            raw_text += text\n",
    "    return raw_text\n",
    "\n",
    "def split_text(raw_text):\n",
    "    text_splitter = CharacterTextSplitter(        \n",
    "        separator = \"\\n\",\n",
    "        chunk_size = 2500,\n",
    "        chunk_overlap  = 400, #striding over the text\n",
    "        length_function = len,\n",
    "    )\n",
    "    texts = text_splitter.split_text(raw_text)\n",
    "    return texts\n",
    "\n",
    "raw_text = read_PDF(r\"C:\\Users\\felip\\OneDrive - Fundacao Getulio Vargas - FGV\\!_Paper04_Chat_PDF\\fact_check_linha_35.pdf\")\n",
    "texts = split_text(raw_text)"
   ]
  },
  {
   "cell_type": "code",
   "execution_count": 14,
   "id": "c95bf8c7",
   "metadata": {},
   "outputs": [
    {
     "data": {
      "text/plain": [
       "13"
      ]
     },
     "execution_count": 14,
     "metadata": {},
     "output_type": "execute_result"
    }
   ],
   "source": [
    "len(texts)"
   ]
  },
  {
   "cell_type": "code",
   "execution_count": 18,
   "id": "57e09bd4",
   "metadata": {},
   "outputs": [],
   "source": [
    "from langchain.embeddings import OpenAIEmbeddings\n",
    "from langchain.vectorstores import FAISS\n",
    "from langchain.chains import RetrievalQA\n",
    "embeddings = OpenAIEmbeddings()\n",
    "#docsearch = FAISS.from_texts(texts, embeddings)      \n",
    "retriever = docsearch.as_retriever(search_type=\"similarity\", search_kwargs={\"k\":2})\n",
    "rqa = RetrievalQA.from_chain_type(llm=OpenAI(), \n",
    "                                  chain_type=\"stuff\", \n",
    "                                  retriever=retriever,\n",
    "                                  chain_type_kwargs={\"prompt\": prompt_input},\n",
    "                                  return_source_documents=True)"
   ]
  },
  {
   "cell_type": "code",
   "execution_count": 23,
   "id": "6bd3f8d3",
   "metadata": {},
   "outputs": [
    {
     "name": "stdout",
     "output_type": "stream",
     "text": [
      "Errors in the classification of expenses in the Code of Application\n",
      "Discrepancies in the values questioned regarding expenses related to education\n",
      "Divergences in Restos a Pagar values\n",
      "Divergences between the SIOPE and SGRES Contábil regarding maintenance and development expenses\n",
      "Error in the accounting of expenses for Actions and Public Health Services\n",
      "Inconsistencies in the Portal of Transparency, including missing information and outdated contracts\n",
      "Incomplete and non-compliant Demonstrativo de Disponibilidade de Caixa e Restos a Pagar\n",
      "Deficiencies in the submission of required documents and reports\n",
      "Deficit in revenue compared to the budgeted amount\n",
      "Decrease in tax revenue from the previous year\n",
      "Budgetary savings due to underutilization of funds\n",
      "Superavit in the comparison of revenue and expenses\n",
      "Delays in the submission of budgetary documents and reports to the TCE-PI\n"
     ]
    }
   ],
   "source": [
    "inconsistencias = \"\"\"Errors in the classification of expenses in the Code of Application\n",
    "Discrepancies in the values questioned regarding expenses related to education\n",
    "Divergences in Restos a Pagar values\n",
    "Divergences between the SIOPE and SGRES Contábil regarding maintenance and development expenses\n",
    "Error in the accounting of expenses for Actions and Public Health Services\n",
    "Inconsistencies in the Portal of Transparency, including missing information and outdated contracts\n",
    "Incomplete and non-compliant Demonstrativo de Disponibilidade de Caixa e Restos a Pagar\n",
    "Deficiencies in the submission of required documents and reports\n",
    "Deficit in revenue compared to the budgeted amount\n",
    "Decrease in tax revenue from the previous year\n",
    "Budgetary savings due to underutilization of funds\n",
    "Superavit in the comparison of revenue and expenses\n",
    "Delays in the submission of budgetary documents and reports to the TCE-PI\"\"\"\n",
    "\n",
    "inconsistencias = inconsistencias.split('\\n')\n",
    "for i in inconsistencias:\n",
    "    query = i\n",
    "    print(query)"
   ]
  },
  {
   "cell_type": "code",
   "execution_count": 24,
   "id": "2cbc4e2a",
   "metadata": {},
   "outputs": [
    {
     "data": {
      "text/plain": [
       "'Given some text, extract a list of facts from the text.\\n\\nFormat your output as a bulleted list.\\n\\nText:\\n\"\"\"\\n{summary}\\n\"\"\"\\n\\nFacts:'"
      ]
     },
     "execution_count": 24,
     "metadata": {},
     "output_type": "execute_result"
    }
   ],
   "source": [
    "checker_chain.create_assertions_prompt.template"
   ]
  },
  {
   "cell_type": "code",
   "execution_count": 25,
   "id": "a1602af9",
   "metadata": {},
   "outputs": [],
   "source": [
    "inconsistence_check = \"\"\"Role: You are a fact checker.\n",
    "You know this context:{context}\n",
    "Here is a fact: {question}\n",
    "Task: determine whether the fact is true or false about the subject.\n",
    "If you are unable to determine whether the fact is true or false, output \"Undetermined\".\n",
    "If the fact is true or false, explain why.\n",
    "Here is the answer:\"\"\"\n",
    "\n",
    "prompt_inconsistence_check = PromptTemplate(template=inconsistence_check, input_variables=['context', 'question'])"
   ]
  },
  {
   "cell_type": "code",
   "execution_count": null,
   "id": "17baa027",
   "metadata": {},
   "outputs": [],
   "source": []
  }
 ],
 "metadata": {
  "kernelspec": {
   "display_name": "Python 3 (ipykernel)",
   "language": "python",
   "name": "python3"
  },
  "language_info": {
   "codemirror_mode": {
    "name": "ipython",
    "version": 3
   },
   "file_extension": ".py",
   "mimetype": "text/x-python",
   "name": "python",
   "nbconvert_exporter": "python",
   "pygments_lexer": "ipython3",
   "version": "3.9.7"
  }
 },
 "nbformat": 4,
 "nbformat_minor": 5
}

{
 "cells": [
  {
   "cell_type": "code",
   "execution_count": 24,
   "id": "90e53e43",
   "metadata": {},
   "outputs": [
    {
     "name": "stdout",
     "output_type": "stream",
     "text": [
      "3  PDFs were found!\n",
      "\n",
      "\n"
     ]
    }
   ],
   "source": [
    "from termcolor import colored\n",
    "import os \n",
    "from PyPDF2 import PdfReader\n",
    "from langchain.llms import OpenAI\n",
    "from langchain.text_splitter import CharacterTextSplitter\n",
    "from langchain.embeddings import OpenAIEmbeddings\n",
    "from langchain.chat_models import ChatOpenAI\n",
    "from langchain.chains import RetrievalQA\n",
    "from langchain.vectorstores import FAISS\n",
    "from langchain.prompts import PromptTemplate\n",
    "from langchain.callbacks import get_openai_callback\n",
    "from termcolor import colored\n",
    "os.environ[\"OPENAI_API_KEY\"] = #INSERT YOUR KEY HERE#\n",
    "def read_PDF(pdf_dir):\n",
    "    doc_reader = PdfReader(pdf_dir)\n",
    "    raw_text = ''\n",
    "    for i, page in enumerate(doc_reader.pages):\n",
    "        text = page.extract_text()\n",
    "        if text:\n",
    "            raw_text += text\n",
    "    return raw_text\n",
    "\n",
    "# Splits raw text into smaller chunks with overlap\n",
    "def split_text(raw_text):\n",
    "    text_splitter = CharacterTextSplitter(        \n",
    "        separator = \"\\n\",\n",
    "        chunk_size = 2500,\n",
    "        chunk_overlap  = 400, #striding over the text\n",
    "        length_function = len,\n",
    "    )\n",
    "    texts = text_splitter.split_text(raw_text)\n",
    "    return texts\n",
    "\n",
    "directory = r\"C:\\Users\\felip\\OneDrive - Fundacao Getulio Vargas - FGV\\!_Paper04_Chat_PDF\\TCE_PIAUI\\cross_reference\"\n",
    "files = os.listdir(directory)\n",
    "pdfs = [file for file in files if file.lower().endswith('.pdf')]\n",
    "print(len(pdfs),' PDFs were found!\\n\\n')"
   ]
  },
  {
   "cell_type": "code",
   "execution_count": 25,
   "id": "ee1fc626",
   "metadata": {},
   "outputs": [],
   "source": [
    "full_text = ''\n",
    "for k in pdfs:\n",
    "    full_text = full_text + read_PDF(directory+'\\\\'+k)"
   ]
  },
  {
   "cell_type": "code",
   "execution_count": 26,
   "id": "c2c07acd",
   "metadata": {},
   "outputs": [
    {
     "data": {
      "text/plain": [
       "32681"
      ]
     },
     "execution_count": 26,
     "metadata": {},
     "output_type": "execute_result"
    }
   ],
   "source": [
    "len(full_text)"
   ]
  },
  {
   "cell_type": "code",
   "execution_count": 36,
   "id": "ea81303e",
   "metadata": {},
   "outputs": [],
   "source": [
    "prompt_CR = \"\"\"\n",
    "Your Role: An auditor expert in extracting information from multiple sources. \n",
    "Your Task: Verify informations dispersed in 2 documents that forms a full context.\n",
    "Using only information from these context: {context}\n",
    "Question: {question}\n",
    "Do not add external information on the replay and do not include opinions.\n",
    "The answer is:\n",
    "\"\"\"\n",
    "question = \"\"\"What was the external auditor's voting recommendation was for the municipality's accounts?\n",
    "What was the rapporteur voting recommendation?\"\"\"\n",
    "question = \"Did the rapporteur use information provided by the external audit work to issue voting recommendations?\"\n",
    "question = \"Was the vote in the Prior Opinion (Parecer Prévio) the same or different from the rapporteur's voting recommendation?\"\n",
    "\n",
    "prompt_cross_ref = PromptTemplate(template=prompt_CR, input_variables=['context', 'question'])\n",
    "\n",
    "def cost_and_tokens(usage_list):  \n",
    "    total_cost = 0\n",
    "    total_tokens = 0\n",
    "    for c in usage_list:\n",
    "        total_cost += c.total_cost\n",
    "        total_tokens += c.total_tokens\n",
    "    return total_cost,total_tokens\n",
    "\n",
    "def QA_LLM(query,prompt_input):\n",
    "    \n",
    "    QA = RetrievalQA.from_chain_type(llm=OpenAI(model_name='gpt-3.5-turbo',#cost of $0.0015 / 1K tokens\n",
    "                                                temperature = 0), \n",
    "                                      chain_type=\"stuff\", \n",
    "                                      retriever=retriever,\n",
    "                                      #verbose=True,\n",
    "                                      chain_type_kwargs={\"prompt\": prompt_input},\n",
    "                                      return_source_documents=True)\n",
    "    with get_openai_callback() as cost:\n",
    "        answer = QA(query,prompt_input)     \n",
    "    return answer, cost"
   ]
  },
  {
   "cell_type": "code",
   "execution_count": 37,
   "id": "73de5a84",
   "metadata": {},
   "outputs": [],
   "source": [
    "embeddings = OpenAIEmbeddings()\n",
    "texts = split_text(full_text)\n",
    "docsearch = FAISS.from_texts(texts, embeddings)\n",
    "retriever = docsearch.as_retriever(search_type=\"similarity\", search_kwargs={\"k\":4})\n",
    "pattern, pattern_cost = QA_LLM(question,prompt_cross_ref) "
   ]
  },
  {
   "cell_type": "code",
   "execution_count": 52,
   "id": "cc9ccedb",
   "metadata": {},
   "outputs": [],
   "source": [
    "question = \"A recomendação de voto emitida no Prior Opnion (Parecer Prévio) foi igual a recomendação de voto do relator? Qual foi a recomendação?\"\n",
    "question = \"Was the voting recommendation issued in the Prior Opnion the same as the rapporteur's voting recommendation? What was the recommendation?\"\n",
    "question = \"Did the rapporteur use information provided by the external audit work to issue voting recommendations?Was the voting recommendation issued in the Prior Opnion the same as the rapporteur's voting recommendation? What was the recommendation?\"\n",
    "\n",
    "pattern, pattern_cost = QA_LLM(question,prompt_cross_ref) "
   ]
  },
  {
   "cell_type": "code",
   "execution_count": 53,
   "id": "0bb12a6f",
   "metadata": {},
   "outputs": [
    {
     "data": {
      "text/plain": [
       "\"Based on the information provided in the documents, it is not explicitly stated whether the rapporteur used information provided by the external audit work to issue voting recommendations. However, it is mentioned that the Director of Municipal Administration Audit Department (DFAM) of the Tribunal of Accounts produced a preliminary report, which identified several occurrences in the municipality's annual accounts. The mayor was given the opportunity to provide justifications and defense but did not do so.\\n\\nRegarding the voting recommendation, it is stated that the rapporteur issued a prior opinion recommending the Approval with Reservations of the government accounts of the Municipal Executive Head of Acauã-PI for the financial year 2017. The specific details of the recommendation are not provided in the given information.\""
      ]
     },
     "execution_count": 53,
     "metadata": {},
     "output_type": "execute_result"
    }
   ],
   "source": [
    "pattern['result']"
   ]
  },
  {
   "cell_type": "code",
   "execution_count": 14,
   "id": "e13e351d",
   "metadata": {},
   "outputs": [
    {
     "data": {
      "text/plain": [
       "[Document(page_content='Do confronto entre o relatório produzido pela Diretoria de Fiscalização da Administração \\nMunicipal e diante da ausência de justificativa e defesa, reiteram -se as ocorrências constatadas \\nno relatório preliminar : \\n \\n \\n \\n \\n  \\n  Estado do Piauí  \\nTribunal de Contas  Processo 006867/2018  \\nPendente de  \\njulgamento  \\n \\n  \\n    \\n2 2.1 INGRESSO EXTEMPORÂNEO DA PRESTAÇÃO DE CONTAS MENSAL : O Prefeito \\nMunicipal, responsável pelo envio da prestação de contas mensal, apresentou ao Tribunal  de \\nContas, a referida documentação, nos prazos indicados:  \\nPeríodo  Prazo Legal  Sagres -Contábil  Sagres Folha  Média Atraso  Entrega  Atraso  Entrega  Atraso  \\nJaneiro  02/05/2017  27/03/2018  329 15/03/2017  0 164 \\nFevereiro  15/05/2017  27/03/2018  316 15/03/2017  0 158 \\nMarço  02/06/2017  28/03/2018  299 16/05/2017  0 149 \\nAbril 03/07/2017  28/03/2018  268 25/05/2017  0 134 \\nMaio 31/07/2017  28/03/2018  240 18/07/2017  0 120 \\nJunho  01/09/2017  28/03/2018  208 02/08/2017  0 104 \\nJulho 02/10/2017  28/03/2018  177 15/09/2017  0 88 \\nAgosto  31/10/2017  28/03/2018  148 01/11/2017  1 74 \\nSetembro  01/12/2017  28/03/2018  117 21/11/2017  0 58 \\nOutubro  02/01/2018  28/03/2018  85 04/01/2018  2 43 \\nNovembro  30/01/2018  28/03/2018  57 04/01/2018  0 28 \\nDezembro  05/03/2018  28/03/2018  23  247 135 \\nFundamentação Legal: art. 33, inciso II, CE/89, Emenda no 006/96 e art. 3o da Resolução TCE no 27/2016.  \\n \\nAs multas referentes aos atrasos nas entregas das prestações de contas serão cobradas \\ndiretamente pelo setor competente deste Tribunal em processo inde pendente.  \\n \\nANÁLISE:  Em consulta ao relat ório interno/Situaç ão das PCs municipais, foi poss ível confirmar \\nos atrasos apontados . Em raz ão da inobserv ância dos prazos legalmente estabelecidos, \\nocorrência n ão sanada . \\n \\n2.2 INSUFICIÊNCIA NA ARRECADAÇÃO DA RECEITA TRIBUTÁRIA: Não houve o \\nincremento da receita tributária do município ao longo dos últimos 4 anos. Nesse período, o \\npercentual de participação da Receita Tributária Arrecadada na Receita Efetiva do mun icípio \\ncaiu de 3,43 para 3,17.  \\n \\nANÁLISE:  Atente -se que a LC no 101/2000 (LRF), em seu art. 11, estabelece vedações ao ente \\nque se omite quanto à instituição, previsão e efetiva arrecadação  dos tributos de sua \\ncompetência constitucional. Ocorr ência n ão sanada.  \\n2.3 REGISTRO ERRADO DO VALOR  DA DEDUÇÃO DO FUNDEB NO SERCA (COTA -\\nPARTE ICMS): Ressalta -se que a dedução do FUNDEB apurada no SERCA – Demonstrativos', metadata={}),\n",
       " Document(page_content='estabelecidos na Instrução Normativa nº 02/2016, tendo em vista a existência das seguintes \\ninconsistências: \\n\\uf0b7 Ausência de informações relativas à matricula e número de CPF dos servidores (item 03 do \\nAnexo); \\n\\uf0b7 Não há informações sobre receitas e despesas referentes aos últimos seis meses; \\n\\uf0b7 Não apresenta informações sobre Plano de Cargos e Salário, Organização Administrativa e \\nCódigo Tributário (item 08 do Anexo);\\n \\uf0b7 Não se encontram disponíveis o Relatório de Gestão de 2016, Relatório Resumido da \\nExecução Orçamentária e Relatório de Gestão Fiscal dos últimos seis meses. Não há também a \\npossibilidade de gravação de relatórios (item 10 do Anexo); \\n\\uf0b7 Embora haja a disponibilização das competências e da estrutura organizacional do ente, não \\nconstam endereços e telefones (itens 16 e 17);\\n\\uf0b7Por fim, há divulgação de diárias e passagens por nome de favorecido e data, destino, \\ncargo e motivo de viagem (item 18).\\nDiante da não manifestação do prefeito municipal e da não demonstração das \\nprovidências ou resolutividade dos itens não atendidos do ckeck-list, ocorrência não sanada.\\n3. PROPOSTA DE VOTO\\nCorroborando o parecer ministerial,\\na) Emissão de parecer prévio recomendando a Aprovação com Ressalvas das contas de \\ngoverno do CHEFE DO EXECUTIVO MUNICIPAL do Município de Acauã-PI, referentes \\nao exercício financeiro de 2017, com fulcro no art. 120 da Lei Estadual n.º 5.888/09 c/c o art. \\n32, §1º da Constituição Estadual;\\nTeresina, 30 de outubro de 2019.\\nAssinado digitalmente\\nDELANO CARNEIRO DA CUNHA CÂMARA\\nRelator\\nAssinado Digitalmente pelo sistema e-TCE - DELANO CARNEIRO DA CUNHA CÂMARA - 31/10/2019 10:33:21Estado do Piauí\\nTribunal de Contas\\nGab. do Cons. Subs. Delano C. da Cunha Câmara\\nPARECER PRÉVIO Nº 142/2019\\nPROCESSO TC/006867/2018 \\nDECISÃO 521/19\\nASSUNTO: PRESTAÇÃO DE CONTAS DE GOVERNO DA P. M. DE ACAUÃ/PI, EXERCÍCIO \\nFINANCEIRO DE 2017.\\nPREFEITO: REGINALDO MOURA CARVALHO\\nRELATOR: CONS. SUBST. DELANO CARNEIRO DA CUNHA CÂMARA\\nPROCURADOR: JOSE ARAÚJO PINHEIRO JÚNIOR\\nADVOGADOS: MARCUS VINICIUS SANTOS SPÍNDOLA RODRIGUES, OAB/PI Nº 12276 \\n(PROCURAÇÃO – PEÇA 39, FLS. 02) E DANIEL CARVALHO OLIVEIRA VALENTE OAB Nº 5823 \\n(SEM PROCURAÇÃO/SEM SUBSTABELECIMENTO).\\nEMENTA. RECEITA. ARRECADAÇÃO. \\nINSUFICIÊNCIA.\\n1) A LC nº 101/2000 (LRF), em seu art. 11, estabelece \\nvedações ao ente que se omite quanto à instituição, \\nprevisão e efetiva arrecadação dos tributos de sua \\ncompetência constitucional.\\nSumário. Prestação de Contas de Governo do Município de', metadata={}),\n",
       " Document(page_content='preliminar, ressalta-se que o prefeito municipal cumpriu os seguintes limites \\nlegais/constitucionais, conforme quadro abaixo:\\n2.1.1 Ingresso extemporâneo da Prestação de Contas Mensal: O Prefeito Municipal, \\nresponsável pelo envio da prestação de contas mensal, apresentou ao Tribunal de Contas, a \\nreferida documentação, nos prazos indicados:\\nA Divisão Técnica concluiu que em consulta ao relatório interno/Situação das PCs \\nmunicipais, foi possível confirmar os atrasos apontados. Em razão da inobservância dos prazos \\nlegalmente estabelecidos, ocorrência não sanada.\\n Em memoriais (peça 39) o gestor alegou que todas as prestações de contas mensais \\nforam enviadas dentro do prazo legal do SAGRES CONTABIL, durante todo o exercício de \\n2017, já em 12/03/2018 foi protocolado protocolo N° 004374/20 18 um pedido de \\ncancelamento do SAGRES referente ao mês de dezembro de 2017, o qual só foi atendido 10 PERCENTUAL\\nLIMITE VALOR EM R$\\nLEGAL APURADO\\nManutenção e Desenvolvimento do Ensino (Art. \\n212 da CF/88)2.055.332,57 25% 25,95\\nAções e Serviços Públicos de Saúde (Art. 198 da CF/88, \\nc/c art. 77 da ADCT).1.799.303,62 15% 22,72%\\nRemuneração do Pessoal do Poder Executivo \\n(Art. 20, III, b, da LC 101/2000 – LRF).6.424.853,84 54% 50,67 %\\nRepasse ao Poder Legislativo 569.181,96 7% 6,93%\\nRemuneração de Profissionais do Magistério \\n(Art. 60, § 5º do ADCT e art. 22 da Lei nº \\n11.494/07).2.590.833,18 60% 66,66%\\nAbertura de créditos adicionais suplementares até \\no limite autorizado.7.865.122,59 50% 47,54%Estado do Piauí\\nTribunal de Contas\\nGab. do Cons. Subs. Delano C. da Cunha Câmara\\ndias depois para poder ser reenviado o sagres de dezembro com a incorporação da câmara e o \\nsagres folha do mês de DEZEMBRO, e para nossa surpresa o próprio setor de informática do \\nTCE-PI cancelou todos os meses de ano de 2017. O que obrigou o setor de contabilidade a \\nreenviar todo o sagres de 2017 em apenas dois dias 27 e 28 de março de 2018, dentro do prazo \\nlegal de 10 dias para qualquer retificação conforme resolução TCE-PI sem multa, fato este não \\npode ser responsabilizado o gestor e aplicado multa sem ele ter dado motivo para tal \\ncancelamento do ano todo de 2017, mais que assim que observamos o ocorrido, tratamos de \\nfazer todos os reenvios mediante autorização do próprio setor de informática do TCE-PI, \\nconforme solicitação e autorização para reenvio sem ônus a gestão, com relação ao sagres folha \\nde dezembro de 2017 o mesmo foi enviado dia 19/01/2018 conforme cópia do recibo de', metadata={}),\n",
       " Document(page_content='Estado do Piauí  \\nTribunal de Contas  Processo 006867/2018  \\nPendente de  \\njulgamento  \\n \\n  \\n    \\n1 DIRETORIA DE FISCALIZAÇÃO DA ADMINISTRAÇÃO MUNICIPAL  \\nProcesso  ............  006867/2018                                      Relatório No 3/2017 -Contraditório  \\nAssunto  .............  Prestação de Contas Anual – Contas de Governo do Exercício de 2017  \\nInteressado  ........  Município de Acauã  Pop: 6749 hab. Coef. 0.6  \\nPREFEITO  ..........  Reginaldo Raimundo Rodrigues  \\nRelator  ..............  Delano Carneiro da Cunha Câmara  \\nProcurador  .........  José Araújo Pinheiro Júnior  \\n \\n1. RELATÓRIO  \\n \\nTrata-se da Prestação de Contas Anual – Contas de Governo - do Município Acauã , referente \\nao exercício financeiro de 2017 . \\n \\nA Diretoria de Fiscalização da Administração Municipal – DFAM deste Tribunal, após análise dos \\ndocumentos que integram o processo de  prestação de contas do Ente municipal, demonstrou \\nno relatório preliminar (Peça 21 ), que o prefeito municipal cumpriu os seguintes limites \\nlegais/constitucionais, descritos abaixo:  \\n \\nDESCRIÇÃO  LIMITE \\nCONSTATADO  LIMITE \\nLEGAL  \\nAbertura de créditos adicionai s suplementares até o limite autorizado  47,54  50,00  \\nGasto com manutenção e desenvolvimento do ensino superior ao limite \\nlegal 25,95  25,00  \\nGasto com ações e serviços de saúde superior ao limite legal  22,72  15,00  \\nGasto com os profissionais do magistério/FUNDEB  superior ao limite \\nlegal 66,66  60,00  \\nDespesas com pessoal do Poder Executivo até o limite legal  50,67  54,00  \\nRepasse da prefeitura para a Câmara Municipal até o limite autorizado  6,93 7,00 \\n \\nEntretanto, foram apontadas ocorrências sintetizadas nos subitens especificados mais adiante.  \\n \\nEm observância aos postulados da ampla defesa e do contraditório, o Prefeito Municipal foi \\ncitado (Peça 28), todavia não apresentou suas justificativas , perante esta Corte de Contas, \\nconforme certidão expedida por este Tribunal de Contas (Peça 31).  \\n \\nÉ o relatório.  \\n \\n2. EXAME DAS ALEGAÇÕES DE DEFESA  \\n \\nDo confronto entre o relatório produzido pela Diretoria de Fiscalização da Administração \\nMunicipal e diante da ausência de justificativa e defesa, reiteram -se as ocorrências constatadas \\nno relatório preliminar : \\n \\n \\n \\n \\n  \\n  Estado do Piauí  \\nTribunal de Contas  Processo 006867/2018  \\nPendente de  \\njulgamento  \\n \\n  \\n    \\n2 2.1 INGRESSO EXTEMPORÂNEO DA PRESTAÇÃO DE CONTAS MENSAL : O Prefeito', metadata={})]"
      ]
     },
     "execution_count": 14,
     "metadata": {},
     "output_type": "execute_result"
    }
   ],
   "source": [
    "pattern['source_documents']"
   ]
  }
 ],
 "metadata": {
  "kernelspec": {
   "display_name": "Python 3 (ipykernel)",
   "language": "python",
   "name": "python3"
  },
  "language_info": {
   "codemirror_mode": {
    "name": "ipython",
    "version": 3
   },
   "file_extension": ".py",
   "mimetype": "text/x-python",
   "name": "python",
   "nbconvert_exporter": "python",
   "pygments_lexer": "ipython3",
   "version": "3.9.7"
  }
 },
 "nbformat": 4,
 "nbformat_minor": 5
}

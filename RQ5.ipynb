{
 "cells": [
  {
   "cell_type": "code",
   "execution_count": 1,
   "id": "5e15b81c",
   "metadata": {},
   "outputs": [
    {
     "name": "stdout",
     "output_type": "stream",
     "text": [
      "732  PDFs were found!\n",
      "\n",
      "\n"
     ]
    }
   ],
   "source": [
    "from termcolor import colored\n",
    "import os \n",
    "from PyPDF2 import PdfReader\n",
    "from langchain.llms import OpenAI\n",
    "from langchain.text_splitter import CharacterTextSplitter\n",
    "from langchain.embeddings import OpenAIEmbeddings\n",
    "from langchain.chat_models import ChatOpenAI\n",
    "from langchain.chains import RetrievalQA\n",
    "from langchain.vectorstores import FAISS\n",
    "from langchain.prompts import PromptTemplate\n",
    "from langchain.callbacks import get_openai_callback\n",
    "from termcolor import colored\n",
    "os.environ[\"OPENAI_API_KEY\"] = #INSERT YOUR KEY HERE#\n",
    "def read_PDF(pdf_dir):\n",
    "    doc_reader = PdfReader(pdf_dir)\n",
    "    raw_text = ''\n",
    "    for i, page in enumerate(doc_reader.pages):\n",
    "        text = page.extract_text()\n",
    "        if text:\n",
    "            raw_text += text\n",
    "    return raw_text\n",
    "\n",
    "# Splits raw text into smaller chunks with overlap\n",
    "def split_text(raw_text):\n",
    "    text_splitter = CharacterTextSplitter(        \n",
    "        separator = \"\\n\",\n",
    "        chunk_size = 2500,\n",
    "        chunk_overlap  = 400, #striding over the text\n",
    "        length_function = len,\n",
    "    )\n",
    "    texts = text_splitter.split_text(raw_text)\n",
    "    return texts\n",
    "\n",
    "directory = r\"C:\\Users\\felip\\OneDrive - Fundacao Getulio Vargas - FGV\\!_Paper04_Chat_PDF\\TCE_PIAUI\\VOTREL\"\n",
    "files = os.listdir(directory)\n",
    "pdfs = [file for file in files if file.lower().endswith('.pdf')]\n",
    "print(len(pdfs),' PDFs were found!\\n\\n')"
   ]
  },
  {
   "cell_type": "code",
   "execution_count": 25,
   "id": "3c1e090d",
   "metadata": {},
   "outputs": [],
   "source": [
    "full_text = ''\n",
    "for k in pdfs[0:10]:\n",
    "    full_text = full_text + read_PDF(directory+'\\\\'+k)"
   ]
  },
  {
   "cell_type": "code",
   "execution_count": 26,
   "id": "97b8f515",
   "metadata": {},
   "outputs": [
    {
     "data": {
      "text/plain": [
       "240018"
      ]
     },
     "execution_count": 26,
     "metadata": {},
     "output_type": "execute_result"
    }
   ],
   "source": [
    "len(full_text)"
   ]
  },
  {
   "cell_type": "code",
   "execution_count": 27,
   "id": "aa344f10",
   "metadata": {},
   "outputs": [],
   "source": [
    "prompt_pattern = \"\"\"\n",
    "Your Role: An auditor expert in finding patterns. \n",
    "Your Task: identify patterns in the accountability documents of various municipalities.\n",
    "Using only information from these context: {context}\n",
    "Question: {question}\n",
    "Do not add external information on the replay and do not include opinions.\n",
    "The patters found are:\n",
    "\"\"\"\n",
    "question = \"Identify patterns on the municipalities accountability:\"\n",
    "\n",
    "prompt_pattern_extraction = PromptTemplate(template=prompt_pattern, input_variables=['context', 'question'])\n",
    "\n",
    "def cost_and_tokens(usage_list):  \n",
    "    total_cost = 0\n",
    "    total_tokens = 0\n",
    "    for c in usage_list:\n",
    "        total_cost += c.total_cost\n",
    "        total_tokens += c.total_tokens\n",
    "    return total_cost,total_tokens\n",
    "\n",
    "def QA_LLM(query,prompt_input):\n",
    "    \n",
    "    QA = RetrievalQA.from_chain_type(llm=OpenAI(model_name='gpt-3.5-turbo',#cost of $0.0015 / 1K tokens\n",
    "                                                temperature = 0), \n",
    "                                      chain_type=\"stuff\", \n",
    "                                      retriever=retriever,\n",
    "                                      #verbose=True,\n",
    "                                      chain_type_kwargs={\"prompt\": prompt_input},\n",
    "                                      return_source_documents=True)\n",
    "    with get_openai_callback() as cost:\n",
    "        answer = QA(query,prompt_input)     \n",
    "    return answer, cost"
   ]
  },
  {
   "cell_type": "code",
   "execution_count": 28,
   "id": "6457f17e",
   "metadata": {},
   "outputs": [
    {
     "name": "stderr",
     "output_type": "stream",
     "text": [
      "C:\\Users\\felip\\anaconda3\\lib\\site-packages\\langchain\\llms\\openai.py:179: UserWarning: You are trying to use a chat model. This way of initializing it is no longer supported. Instead, please use: `from langchain.chat_models import ChatOpenAI`\n",
      "  warnings.warn(\n",
      "C:\\Users\\felip\\anaconda3\\lib\\site-packages\\langchain\\llms\\openai.py:753: UserWarning: You are trying to use a chat model. This way of initializing it is no longer supported. Instead, please use: `from langchain.chat_models import ChatOpenAI`\n",
      "  warnings.warn(\n"
     ]
    }
   ],
   "source": [
    "embeddings = OpenAIEmbeddings()\n",
    "texts = split_text(full_text)\n",
    "docsearch = FAISS.from_texts(texts, embeddings)\n",
    "retriever = docsearch.as_retriever(search_type=\"similarity\", search_kwargs={\"k\":4})\n",
    "pattern, pattern_cost = QA_LLM(question,prompt_pattern_extraction) "
   ]
  },
  {
   "cell_type": "code",
   "execution_count": 24,
   "id": "dcd2cf61",
   "metadata": {},
   "outputs": [
    {
     "data": {
      "text/plain": [
       "'1. Lack of compliance with transparency requirements: In all three municipalities (Acauã, Agricolândia, and Água Branca), there were inconsistencies and deficiencies in the information provided on the transparency portals. This includes missing information on employee registration and CPF numbers, lack of information on revenues and expenses, absence of reports and documents related to financial management, and incomplete organizational information.\\n\\n2. Non-compliance with legal and regulatory requirements: The municipalities failed to meet the minimum requirements established by the regulatory norms. This includes the absence of information on employee registration and CPF numbers, missing reports on financial management, lack of information on salary plans and administrative organization, and incomplete disclosure of addresses and phone numbers.\\n\\n3. Inadequate financial management: The municipalities showed deficiencies in financial management, including the invalidity of the Certificate of Regularity Previdenciária, failure to observe financial and actuarial balance in the RPPS (Regime Próprio de Previdência Social), and a decrease in tax revenue.\\n\\n4. Recommendations for improvement: In all three cases, the auditors recommended that the municipalities take measures to address the identified deficiencies and improve their performance. This includes efforts to achieve higher ratings in the IEGM (Índice de Efetividade da Gestão Municipal), implementation of better educational policies, compliance with legal and regulatory requirements, adherence to deadlines for submitting financial statements, and optimization of revenue collection.\\n\\nOverall, the patterns identified suggest a lack of transparency, non-compliance with legal and regulatory requirements, and deficiencies in financial management in the municipalities. These findings highlight the need for improved accountability and governance practices in these local governments.'"
      ]
     },
     "execution_count": 24,
     "metadata": {},
     "output_type": "execute_result"
    }
   ],
   "source": [
    "pattern['result']"
   ]
  },
  {
   "cell_type": "code",
   "execution_count": 29,
   "id": "066ee75d",
   "metadata": {},
   "outputs": [
    {
     "data": {
      "text/plain": [
       "\"1. Non-compliance with education development goals: The municipalities analyzed did not meet the projected targets for the Index of Basic Education Development (IDEB) in the final years of primary education. This pattern was observed in multiple years, indicating a consistent issue in educational performance.\\n\\n2. Lack of transparency in municipal portals: The municipalities' transparency portals were found to have various inconsistencies and deficiencies. These included the absence of information on enrollment, CPF (Brazilian identification number), and benefits, as well as the lack of information on bidding results, contracts, and agreements. Additionally, the portals did not provide access to local legislation, salary plans, or organizational structure. The absence of financial reports and the inability to save reports in open formats for analysis were also noted. Furthermore, there was a lack of information on the possibility of submitting access requests in person and the absence of clear indications of physical service centers.\\n\\n3. Irregularities in financial statements: The municipalities' financial statements showed discrepancies in the initial revenue forecast and initial expenditure allocation. The correction of these discrepancies was not made within the required timeframe, indicating a lack of adherence to accounting regulations.\\n\\n4. Ineffectiveness in municipal management: The municipalities' overall effectiveness in governance was below average, as indicated by the Index of Municipal Management Effectiveness (IEGM). While some indicators, such as environmental management and fiscal management, performed above average, others, including health management and overall planning, showed a need for improvement. The IEGM scores indicated a lack of effective policies and strategies to address existing issues.\\n\\n5. Lack of progress in achieving development goals: The municipalities' performance in achieving development goals, as measured by the IEGM, showed a decline in some indicators from the previous year. This suggests a lack of effective policies and actions to address existing problems and promote development.\\n\\nOverall, the patterns identified indicate a need for improved educational performance, transparency in municipal governance, adherence to accounting regulations, and effective policies and strategies for overall municipal development.\""
      ]
     },
     "execution_count": 29,
     "metadata": {},
     "output_type": "execute_result"
    }
   ],
   "source": [
    "pattern['result']"
   ]
  }
 ],
 "metadata": {
  "kernelspec": {
   "display_name": "Python 3 (ipykernel)",
   "language": "python",
   "name": "python3"
  },
  "language_info": {
   "codemirror_mode": {
    "name": "ipython",
    "version": 3
   },
   "file_extension": ".py",
   "mimetype": "text/x-python",
   "name": "python",
   "nbconvert_exporter": "python",
   "pygments_lexer": "ipython3",
   "version": "3.9.7"
  }
 },
 "nbformat": 4,
 "nbformat_minor": 5
}

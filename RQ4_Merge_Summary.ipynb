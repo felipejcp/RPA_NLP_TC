{
 "cells": [
  {
   "cell_type": "code",
   "execution_count": 1,
   "id": "74992127",
   "metadata": {},
   "outputs": [],
   "source": [
    "from langchain.prompts import PromptTemplate\n",
    "from langchain.llms import OpenAI\n",
    "from langchain.chains import LLMChain\n",
    "import textwrap\n",
    "from langchain.chains import LLMSummarizationCheckerChain\n",
    "import os\n",
    "from PyPDF2 import PdfReader\n",
    "from langchain.text_splitter import CharacterTextSplitter\n",
    "from langchain.embeddings import OpenAIEmbeddings\n",
    "from langchain.vectorstores import FAISS\n",
    "from langchain.chains import RetrievalQA\n",
    "\n",
    "os.environ[\"OPENAI_API_KEY\"] = #INSERT YOUR KEY HERE#"
   ]
  },
  {
   "cell_type": "code",
   "execution_count": 11,
   "id": "77a9c88d",
   "metadata": {},
   "outputs": [],
   "source": [
    "def split_text(raw_text):\n",
    "    text_splitter = CharacterTextSplitter(        \n",
    "        separator = \"\\n\",\n",
    "        chunk_size = 2500,\n",
    "        chunk_overlap  = 400, #striding over the text\n",
    "        length_function = len,\n",
    "    )\n",
    "    texts = text_splitter.split_text(raw_text)\n",
    "    return texts\n",
    "\n",
    "raw_text = \"\"\"\"The document discusses the annual government accounts of the Municipality of Amarante for the year 2017. The report highlights various observations and issues, including discrepancies in the presentation of debt and floating debt, positive and negative aspects of the Transparency Portal, and the need for improvement in certain sectors such as education and planning. The Ministry of Public Accounts recommends the approval of the accounts with reservations.\n",
    "- The report discusses the accounts of the Municipal Government of Amarante for the year 2017.\n",
    "- The Demonstrative of Internal Funded Debt and the Floating Debt Statement do not provide complete information on previous balances and future balances.\n",
    "- The Transparency Portal of the government has both positive and negative aspects.\n",
    "- The Ministry of Public Accounts recommends approving the accounts with reservations.\n",
    "- The municipality of Amarante has achieved below-average scores in the i-Educ index but above-average scores in the i-Saúde, i-Gov TI, and i-Fiscal indices.\n",
    "- The municipality has not met the projected goals for education in the years 2011-2017.\n",
    "- The report highlights several issues, including late submission of budgetary documents, absence of COSIP in the Annual Budget Law, and negative values in the \"Maximum of 5% not applied in the exercise\" indicator.\n",
    "\"\"\"\n",
    "\n",
    "\n",
    "texts = split_text(raw_text)\n",
    "\n",
    "prompt_merge = \"\"\"\"Role: You are an auditor from civil society interest in public accounts.\n",
    "You know this context from these two sources in plain text and in list:{context}\n",
    "Here is your task: {question}\n",
    "Use only information from the sources. Do not add external information or include opnions.\n",
    "Include all information available in the answer.\n",
    "Here is the answer:\"\"\"\n",
    "\n",
    "prompt_merge_check = PromptTemplate(template=prompt_merge, input_variables=['context', 'question'])\n",
    "\n",
    "embeddings = OpenAIEmbeddings()\n",
    "docsearch = FAISS.from_texts(texts, embeddings)      \n",
    "retriever = docsearch.as_retriever(search_type=\"similarity\", search_kwargs={\"k\":3})\n",
    "rqa = RetrievalQA.from_chain_type(llm=OpenAI(), \n",
    "                                  chain_type=\"stuff\", \n",
    "                                  retriever=retriever,\n",
    "                                  chain_type_kwargs={\"prompt\": prompt_merge_check},\n",
    "                                  return_source_documents=True)\n",
    "question = \"Merge the results providing a plain text summary with deeper details using only the information from these two sources\"\n",
    "question = \"Include all information of the list on the plain text to expand and merge the information of both sources.\""
   ]
  },
  {
   "cell_type": "code",
   "execution_count": 12,
   "id": "cafe2c8d",
   "metadata": {},
   "outputs": [],
   "source": [
    "resposta_LLM = rqa(question)"
   ]
  },
  {
   "cell_type": "code",
   "execution_count": 13,
   "id": "98d20a56",
   "metadata": {},
   "outputs": [
    {
     "data": {
      "text/plain": [
       "' The document discusses the annual government accounts of the Municipality of Amarante for the year 2017. The report highlights various observations and issues, including discrepancies in the presentation of debt and floating debt, with the Demonstrative of Internal Funded Debt and the Floating Debt Statement not providing complete information on previous balances and future balances, and the need for improvement in certain sectors such as education and planning. The Transparency Portal of the government has both positive and negative aspects, with the municipality of Amarante having achieved below-average scores in the i-Educ index but above-average scores in the i-Saúde, i-Gov TI, and i-Fiscal indices. The municipality has not met the projected goals for education in the years 2011-2017, and the report highlights several issues, including late submission of budgetary documents, absence of COSIP in the Annual Budget Law, and negative values in the \"Maximum of 5% not applied in the exercise\" indicator. The Ministry of Public Accounts recommends the approval of the accounts with reservations.'"
      ]
     },
     "execution_count": 13,
     "metadata": {},
     "output_type": "execute_result"
    }
   ],
   "source": [
    "resposta_LLM['result']"
   ]
  },
  {
   "cell_type": "code",
   "execution_count": 10,
   "id": "964ab869",
   "metadata": {},
   "outputs": [
    {
     "data": {
      "text/plain": [
       "791"
      ]
     },
     "execution_count": 10,
     "metadata": {},
     "output_type": "execute_result"
    }
   ],
   "source": [
    "len(' The annual government accounts of the Municipality of Amarante for the year 2017 have been discussed in the report. It highlights discrepancies in the presentation of debt and floating debt and has identified both positive and negative aspects of the Transparency Portal. The Ministry of Public Accounts has recommended approval of the accounts with reservations. The municipality has achieved below-average scores in the i-Educ index but above-average scores in the i-Saúde, i-Gov TI, and i-Fiscal indices. The report also states that the municipality has not met projected goals for education in the years 2011-2017, due to late submission of budgetary documents, absence of COSIP in the Annual Budget Law, and negative values in the \"Maximum of 5% not applied in the exercise\" indicator.')"
   ]
  }
 ],
 "metadata": {
  "kernelspec": {
   "display_name": "Python 3 (ipykernel)",
   "language": "python",
   "name": "python3"
  },
  "language_info": {
   "codemirror_mode": {
    "name": "ipython",
    "version": 3
   },
   "file_extension": ".py",
   "mimetype": "text/x-python",
   "name": "python",
   "nbconvert_exporter": "python",
   "pygments_lexer": "ipython3",
   "version": "3.9.7"
  }
 },
 "nbformat": 4,
 "nbformat_minor": 5
}
